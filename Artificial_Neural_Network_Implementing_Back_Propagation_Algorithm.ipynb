{
 "cells": [
  {
   "cell_type": "code",
   "execution_count": 1,
   "id": "a6b8947b-5d5f-41e2-9555-94b2b6bff06b",
   "metadata": {},
   "outputs": [
    {
     "name": "stdout",
     "output_type": "stream",
     "text": [
      "Input:\n",
      "[[0.66666667 1.        ]\n",
      " [0.33333333 0.55555556]\n",
      " [1.         0.66666667]]\n",
      "Actual Output:\n",
      "[[0.92]\n",
      " [0.86]\n",
      " [0.89]]\n",
      "Predicted Output:\n",
      " [[0.89376014]\n",
      " [0.88123473]\n",
      " [0.89418582]]\n"
     ]
    }
   ],
   "source": [
    "import numpy as np\n",
    "\n",
    "# Input and output datasets\n",
    "X = np.array([[2, 9], [1, 5], [3, 6]], dtype=float)\n",
    "y = np.array([[92], [86], [89]], dtype=float)\n",
    "\n",
    "# Normalize input data\n",
    "X = X / np.amax(X, axis=0)  # maximum of X array along columns\n",
    "y = y / 100\n",
    "\n",
    "# Sigmoid Function\n",
    "def sigmoid(x):\n",
    "    return 1 / (1 + np.exp(-x))\n",
    "\n",
    "# Derivative of Sigmoid Function\n",
    "def derivatives_sigmoid(x):\n",
    "    return x * (1 - x)\n",
    "\n",
    "# Variable initialization\n",
    "epoch = 5000         # Setting training iterations\n",
    "lr = 0.1             # Setting learning rate\n",
    "inputlayer_neurons = 2   # Number of features in dataset\n",
    "hiddenlayer_neurons = 3  # Number of hidden layer neurons\n",
    "output_neurons = 1       # Number of neurons at output layer\n",
    "\n",
    "# Weight and bias initialization\n",
    "wh = np.random.uniform(size=(inputlayer_neurons, hiddenlayer_neurons))\n",
    "bh = np.random.uniform(size=(1, hiddenlayer_neurons))\n",
    "wout = np.random.uniform(size=(hiddenlayer_neurons, output_neurons))\n",
    "bout = np.random.uniform(size=(1, output_neurons))\n",
    "\n",
    "# Training algorithm\n",
    "for i in range(epoch):\n",
    "    # Forward Propagation\n",
    "    hinp1 = np.dot(X, wh)\n",
    "    hinp = hinp1 + bh\n",
    "    hlayer_act = sigmoid(hinp)\n",
    "\n",
    "    outinp1 = np.dot(hlayer_act, wout)\n",
    "    outinp = outinp1 + bout\n",
    "    output = sigmoid(outinp)\n",
    "\n",
    "    # Backpropagation\n",
    "    EO = y - output\n",
    "    outgrad = derivatives_sigmoid(output)\n",
    "    d_output = EO * outgrad\n",
    "\n",
    "    EH = d_output.dot(wout.T)\n",
    "    hiddengrad = derivatives_sigmoid(hlayer_act)\n",
    "    d_hiddenlayer = EH * hiddengrad\n",
    "\n",
    "    # Updating weights and biases\n",
    "    wout += hlayer_act.T.dot(d_output) * lr\n",
    "    wh += X.T.dot(d_hiddenlayer) * lr\n",
    "\n",
    "    # Updating biases (optional for improvement)\n",
    "    bout += np.sum(d_output, axis=0, keepdims=True) * lr\n",
    "    bh += np.sum(d_hiddenlayer, axis=0, keepdims=True) * lr\n",
    "\n",
    "# Displaying results\n",
    "print(\"Input:\\n\" + str(X))\n",
    "print(\"Actual Output:\\n\" + str(y))\n",
    "print(\"Predicted Output:\\n\", output)"
   ]
  },
  {
   "cell_type": "code",
   "execution_count": null,
   "id": "15a2bdbc-f3ae-4c22-8de0-2606a2739b18",
   "metadata": {},
   "outputs": [],
   "source": []
  }
 ],
 "metadata": {
  "kernelspec": {
   "display_name": "Python 3 (ipykernel)",
   "language": "python",
   "name": "python3"
  },
  "language_info": {
   "codemirror_mode": {
    "name": "ipython",
    "version": 3
   },
   "file_extension": ".py",
   "mimetype": "text/x-python",
   "name": "python",
   "nbconvert_exporter": "python",
   "pygments_lexer": "ipython3",
   "version": "3.12.7"
  }
 },
 "nbformat": 4,
 "nbformat_minor": 5
}
